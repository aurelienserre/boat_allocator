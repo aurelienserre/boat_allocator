{
 "cells": [
  {
   "cell_type": "code",
   "execution_count": 1,
   "metadata": {},
   "outputs": [],
   "source": [
    "import pandas as pd\n",
    "import numpy as np"
   ]
  },
  {
   "cell_type": "markdown",
   "metadata": {},
   "source": [
    "# People"
   ]
  },
  {
   "cell_type": "code",
   "execution_count": 2,
   "metadata": {},
   "outputs": [],
   "source": [
    "people = pd.read_csv(\"data/people.csv\", sep=\";\")"
   ]
  },
  {
   "cell_type": "code",
   "execution_count": 3,
   "metadata": {},
   "outputs": [],
   "source": [
    "# remove lines that delimit comp., master, rec\n",
    "people = people.dropna()\n",
    "# replace HH with H\n",
    "people.replace({'Class': {'HH': 'H'}}, inplace=True)\n",
    "# cast level as int\n",
    "people = people.astype({'Level': 'int32'})\n",
    "# names as index\n",
    "people.set_index('Name', inplace=True)"
   ]
  },
  {
   "cell_type": "code",
   "execution_count": 4,
   "metadata": {},
   "outputs": [
    {
     "data": {
      "text/plain": [
       "M     38\n",
       "H     14\n",
       "MH    13\n",
       "L     10\n",
       "Name: Class, dtype: int64"
      ]
     },
     "execution_count": 4,
     "metadata": {},
     "output_type": "execute_result"
    }
   ],
   "source": [
    "people['Class'].value_counts(dropna=False)"
   ]
  },
  {
   "cell_type": "code",
   "execution_count": 5,
   "metadata": {},
   "outputs": [
    {
     "data": {
      "text/plain": [
       "1    31\n",
       "2    28\n",
       "3    11\n",
       "0     5\n",
       "Name: Level, dtype: int64"
      ]
     },
     "execution_count": 5,
     "metadata": {},
     "output_type": "execute_result"
    }
   ],
   "source": [
    "people['Level'].value_counts(dropna=False)"
   ]
  },
  {
   "cell_type": "code",
   "execution_count": 6,
   "metadata": {},
   "outputs": [],
   "source": [
    "people.to_csv('data_processed/people.csv')"
   ]
  },
  {
   "cell_type": "markdown",
   "metadata": {},
   "source": [
    "# Boats"
   ]
  },
  {
   "cell_type": "code",
   "execution_count": 7,
   "metadata": {},
   "outputs": [],
   "source": [
    "boats = pd.read_csv('data/boats.csv', sep=\";\", header=[1])\n",
    "boats.drop(columns=[\"owner\"], inplace=True)\n",
    "boats.set_index('name', inplace=True)"
   ]
  },
  {
   "cell_type": "code",
   "execution_count": 8,
   "metadata": {},
   "outputs": [],
   "source": [
    "replacments = {np.nan: 0, 'x': 1}\n",
    "boats.replace({col: replacments for col in ['L', 'M', 'MH', 'H']}, inplace=True)"
   ]
  },
  {
   "cell_type": "code",
   "execution_count": 9,
   "metadata": {},
   "outputs": [],
   "source": [
    "boats.to_csv('data_processed/boats.csv')"
   ]
  },
  {
   "cell_type": "markdown",
   "metadata": {},
   "source": [
    "# Competitive"
   ]
  },
  {
   "cell_type": "markdown",
   "metadata": {},
   "source": [
    "## Prefs"
   ]
  },
  {
   "cell_type": "code",
   "execution_count": 10,
   "metadata": {},
   "outputs": [],
   "source": [
    "prefs = pd.read_csv('data/comp/time_prefs.csv', sep=\";\")\n",
    "prefs = prefs.drop(columns=['Level', 'Class'])\n",
    "\n",
    "# repeat names 3 times\n",
    "prefs['Name'].fillna(method='ffill', inplace=True)\n",
    "# multi-index cols with (day, time of day)\n",
    "prefs = prefs.pivot(index='Name', columns='Preff', values=['M', 'T', 'W', 'Th', 'F', 'S'])\n",
    "# drop people that have not given any prefs\n",
    "prefs.dropna(how='all', inplace=True)\n",
    "# replace with preferences values (-1 for a secondary choice, 0 for a first choice)\n",
    "prefs.replace({'x': 0, 'X': 0, '0': -1, 'o': -1, 'O': -1}, inplace=True)"
   ]
  },
  {
   "cell_type": "code",
   "execution_count": 11,
   "metadata": {},
   "outputs": [],
   "source": [
    "prefs.columns.set_names(['day', 'time'], inplace=True)"
   ]
  },
  {
   "cell_type": "code",
   "execution_count": 12,
   "metadata": {
    "scrolled": true
   },
   "outputs": [],
   "source": [
    "prefs.to_csv('data_processed/comp/time_prefs.csv')"
   ]
  }
 ],
 "metadata": {
  "kernelspec": {
   "display_name": "Python 3",
   "language": "python",
   "name": "python3"
  },
  "language_info": {
   "codemirror_mode": {
    "name": "ipython",
    "version": 3
   },
   "file_extension": ".py",
   "mimetype": "text/x-python",
   "name": "python",
   "nbconvert_exporter": "python",
   "pygments_lexer": "ipython3",
   "version": "3.8.3"
  }
 },
 "nbformat": 4,
 "nbformat_minor": 4
}
