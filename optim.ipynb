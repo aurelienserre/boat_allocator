{
 "cells": [
  {
   "cell_type": "code",
   "execution_count": 1,
   "metadata": {},
   "outputs": [],
   "source": [
    "import pandas as pd\n",
    "import numpy as np\n",
    "from pyscipopt import Model\n",
    "from pyscipopt import quicksum"
   ]
  },
  {
   "cell_type": "markdown",
   "metadata": {},
   "source": [
    "# import data"
   ]
  },
  {
   "cell_type": "code",
   "execution_count": 2,
   "metadata": {},
   "outputs": [],
   "source": [
    "people = pd.read_csv(\"data_processed/people.csv\", index_col=\"Name\")\n",
    "boats = pd.read_csv('data_processed/boats.csv', index_col='name')\n",
    "time_prefs = {'comp': pd.read_csv('data_processed/comp/time_prefs.csv',\n",
    "                                  header=[0, 1], index_col=0),\n",
    "              'rec_master': None\n",
    "              }"
   ]
  },
  {
   "cell_type": "markdown",
   "metadata": {},
   "source": [
    "## Optim for competitive group"
   ]
  },
  {
   "cell_type": "code",
   "execution_count": 3,
   "metadata": {},
   "outputs": [],
   "source": [
    "GROUP = 'comp'"
   ]
  },
  {
   "cell_type": "code",
   "execution_count": 4,
   "metadata": {},
   "outputs": [],
   "source": [
    "prefs = time_prefs[GROUP]\n",
    "people_set = set(prefs.index)\n",
    "time_set = set(prefs.columns)\n",
    "boat_set = set(boats.index)"
   ]
  },
  {
   "cell_type": "code",
   "execution_count": 5,
   "metadata": {},
   "outputs": [],
   "source": [
    "# number of trainings people ask for (number of first choice)\n",
    "asked_nb_trainings = prefs.apply(lambda x: x.value_counts()[0], axis=1)"
   ]
  },
  {
   "cell_type": "code",
   "execution_count": 6,
   "metadata": {},
   "outputs": [],
   "source": [
    "# for each group, dict with key = level of people, values = list of boat skills they can row\n",
    "boat_class_per_skill = {\n",
    "    'comp': {\n",
    "        1: [0, 1],\n",
    "        2: [2]\n",
    "    },\n",
    "    'rec_master': {\n",
    "        1: [1],\n",
    "        2: [2],\n",
    "        3: [2]\n",
    "    }\n",
    "}"
   ]
  },
  {
   "cell_type": "markdown",
   "metadata": {},
   "source": [
    "## create dicts that help generate vars and constraints"
   ]
  },
  {
   "cell_type": "code",
   "execution_count": 7,
   "metadata": {},
   "outputs": [],
   "source": [
    "# boats_for_person and times_avail_for_person for each person\n",
    "boats_for_person = {}\n",
    "times_avail_for_person = {}\n",
    "for p in people_set:\n",
    "    skill = people.loc[p]['Level']\n",
    "    weight = people.loc[p]['Class']\n",
    "\n",
    "    # mask selecting boats with a skill mathcing the level of the person\n",
    "    skill_mask = boats['skill'].isin(boat_class_per_skill['comp'][skill])\n",
    "    # mask selecting boats that match the weight class of the person\n",
    "    weight_mask = boats[weight] == 1\n",
    "\n",
    "    matching_boats = boats[skill_mask & weight_mask]\n",
    "    boats_for_person[p] = set(matching_boats.index)\n",
    "\n",
    "    # available times for the person\n",
    "    times_avail_for_person[p] = set(prefs.loc[p][prefs.loc[p].notna()].index)\n",
    "\n",
    "# people likely to row a given boat at a given time\n",
    "people_for_boat_time = {}\n",
    "for b in boat_set:\n",
    "    skill_mask = people['membership'] == 'comp'\n",
    "    if boats.loc[b]['skill'] in (0, 1):\n",
    "        skill_mask &= people['Level'] == 1\n",
    "    elif boats.loc[b]['skill'] == 2:\n",
    "        skill_mask &= people['Level'] == 2\n",
    "    else:\n",
    "        continue\n",
    "\n",
    "    weight_mask = pd.Series(data=False, index=people.index)  # neutral mask (does not mask anything)\n",
    "    for weight in ['L', 'M', 'MH', 'H']:\n",
    "        if boats.loc[b][weight] == 1:\n",
    "            weight_mask |= people['Class'] == weight\n",
    "\n",
    "    people_for_boat = set(people[skill_mask & weight_mask].index)\n",
    "    # only people who gave time prefs\n",
    "    people_for_boat &= people_set\n",
    "\n",
    "    for t in time_set:\n",
    "        people_for_boat_time[(b, t)] = {p for p in people_for_boat\n",
    "                                        if not np.isnan(prefs.loc[p, t])}"
   ]
  },
  {
   "cell_type": "markdown",
   "metadata": {},
   "source": [
    "## Define the model"
   ]
  },
  {
   "cell_type": "code",
   "execution_count": 8,
   "metadata": {},
   "outputs": [],
   "source": [
    "# definition of the model\n",
    "model = Model(\"boat_alloc\")\n",
    "\n",
    "# defining varialbes\n",
    "variables = {}\n",
    "for p in people_set:\n",
    "    for b in boats_for_person[p]:\n",
    "        for t in times_avail_for_person[p]:\n",
    "            variables[(p, b, t)] = model.addVar(vtype=\"B\")\n",
    "\n",
    "# minimal pref score among all people, that we want to maximize\n",
    "s = model.addVar(vtype=\"I\", name=\"min_pref\", lb=None)\n",
    "\n",
    "\n",
    "# setting the objective fucntion\n",
    "model.setObjective(s, \"maximize\")\n",
    "\n",
    "# adding the constraints\n",
    "for p in people_set:\n",
    "    # sum of prefs\n",
    "    sum_of_prefs = quicksum(prefs.loc[p, t] * variables[(p, b, t)]\n",
    "                            for b in boats_for_person[p]\n",
    "                            for t in times_avail_for_person[p])\n",
    "    # s = min_{p} sum of prefs\n",
    "    model.addCons(s <= sum_of_prefs)\n",
    "\n",
    "    # each person trains the number of times they asked\n",
    "    nb_trainings = quicksum(variables[(p, b, t)]\n",
    "                            for b in boats_for_person[p]\n",
    "                            for t in times_avail_for_person[p])\n",
    "    model.addCons(nb_trainings == asked_nb_trainings[p])\n",
    "\n",
    "    # each person can only row one boat at a time\n",
    "    for t in times_avail_for_person[p]:\n",
    "        nb_boats = quicksum(variables[(p, b, t)]\n",
    "                            for b in boats_for_person[p])\n",
    "        model.addCons(nb_boats <= 1)\n",
    "\n",
    "# for each boat and time, no more than one person\n",
    "for b in set(boats[boats['skill'].isin([0, 1, 2])].index):\n",
    "    for t in time_set:\n",
    "        nb_people_on_boat_time = quicksum(variables[(p, b, t)]\n",
    "                                          for p in people_for_boat_time[(b, t)])\n",
    "        model.addCons(nb_people_on_boat_time <= 1)"
   ]
  },
  {
   "cell_type": "markdown",
   "metadata": {},
   "source": [
    "## solve the model"
   ]
  },
  {
   "cell_type": "code",
   "execution_count": 9,
   "metadata": {},
   "outputs": [],
   "source": [
    "# optimize\n",
    "model.optimize()"
   ]
  },
  {
   "cell_type": "markdown",
   "metadata": {},
   "source": [
    "## output solution"
   ]
  },
  {
   "cell_type": "code",
   "execution_count": 10,
   "metadata": {},
   "outputs": [
    {
     "name": "stdout",
     "output_type": "stream",
     "text": [
      "Fairness score (0 = optimal) :  0.0\n"
     ]
    }
   ],
   "source": [
    "status = model.getStatus()\n",
    "if status == 'optimal':\n",
    "    # generate resulting CSV file with boat allocation\n",
    "    levels = [['M', 'T', 'W', 'Th', 'F', 'S'], ['am1', 'am2', 'pm']]\n",
    "    cols = pd.MultiIndex.from_product(levels, names=['day', 'time'])\n",
    "    result = pd.DataFrame(columns=cols, index=people_set)\n",
    "    result.index.rename('people', inplace=True)\n",
    "\n",
    "    for p in people_set:\n",
    "        for t in times_avail_for_person[p]:\n",
    "            boat = {b for b in boats_for_person[p] if model.getVal(variables[(p, b, t)]) == 1}\n",
    "            assert len(boat) <= 1\n",
    "            if boat:\n",
    "                result.loc[p, t] = boat.pop()\n",
    "\n",
    "    result.to_csv('results/comp/results_boat.csv')\n",
    "    print(\"Fairness score (0 = optimal) : \", model.getVal(s))\n",
    "\n",
    "else:\n",
    "    print(f\"Solver finished with status {status}\")"
   ]
  }
 ],
 "metadata": {
  "kernelspec": {
   "display_name": "Python 3",
   "language": "python",
   "name": "python3"
  },
  "language_info": {
   "codemirror_mode": {
    "name": "ipython",
    "version": 3
   },
   "file_extension": ".py",
   "mimetype": "text/x-python",
   "name": "python",
   "nbconvert_exporter": "python",
   "pygments_lexer": "ipython3",
   "version": "3.8.3"
  }
 },
 "nbformat": 4,
 "nbformat_minor": 4
}
