{
 "cells": [
  {
   "cell_type": "code",
   "execution_count": 1,
   "metadata": {},
   "outputs": [],
   "source": [
    "import pandas as pd\n",
    "import numpy as np\n",
    "from pyscipopt import Model\n",
    "from pyscipopt import quicksum"
   ]
  },
  {
   "cell_type": "markdown",
   "metadata": {},
   "source": [
    "# import data"
   ]
  },
  {
   "cell_type": "code",
   "execution_count": 2,
   "metadata": {},
   "outputs": [],
   "source": [
    "suffix = \"_hardcore\""
   ]
  },
  {
   "cell_type": "code",
   "execution_count": 3,
   "metadata": {},
   "outputs": [],
   "source": [
    "people = pd.read_csv(\"data_processed/people.csv\", index_col=\"Name\")\n",
    "boats = pd.read_csv('data_processed/boats.csv', index_col='name')\n",
    "time_prefs = {'comp': pd.read_csv(f'data_processed/comp/time_prefs{suffix}.csv',\n",
    "                                  header=[0, 1], index_col=0),\n",
    "              'rec_master': None\n",
    "              }"
   ]
  },
  {
   "cell_type": "markdown",
   "metadata": {},
   "source": [
    "## Optim for competitive group"
   ]
  },
  {
   "cell_type": "code",
   "execution_count": 4,
   "metadata": {},
   "outputs": [],
   "source": [
    "GROUP = 'comp'"
   ]
  },
  {
   "cell_type": "code",
   "execution_count": 5,
   "metadata": {},
   "outputs": [],
   "source": [
    "prefs = time_prefs[GROUP]\n",
    "people_set = set(prefs.index)\n",
    "time_set = set(prefs.columns)\n",
    "boat_set = set(boats.index)"
   ]
  },
  {
   "cell_type": "code",
   "execution_count": 6,
   "metadata": {},
   "outputs": [],
   "source": [
    "# number of trainings people ask for (number of first choice)\n",
    "asked_nb_trainings = prefs.apply(lambda x: x.value_counts()[0], axis=1)"
   ]
  },
  {
   "cell_type": "code",
   "execution_count": 7,
   "metadata": {},
   "outputs": [],
   "source": [
    "# for each group, dict with key = level of people, values = list of boat skills they can row\n",
    "boat_class_per_skill = {\n",
    "    'comp': {\n",
    "        1: [0, 1],\n",
    "        2: [2]\n",
    "    },\n",
    "    'rec_master': {\n",
    "        1: [1],\n",
    "        2: [2],\n",
    "        3: [2]\n",
    "    }\n",
    "}"
   ]
  },
  {
   "cell_type": "markdown",
   "metadata": {},
   "source": [
    "## create dicts that help generate vars and constraints"
   ]
  },
  {
   "cell_type": "code",
   "execution_count": 8,
   "metadata": {},
   "outputs": [],
   "source": [
    "# boats_for_person and times_avail_for_person for each person\n",
    "boats_for_person = {}\n",
    "times_avail_for_person = {}\n",
    "for p in people_set:\n",
    "    skill = people.loc[p]['Level']\n",
    "    weight = people.loc[p]['Class']\n",
    "\n",
    "    # mask selecting boats with a skill mathcing the level of the person\n",
    "    skill_mask = boats['skill'].isin(boat_class_per_skill['comp'][skill])\n",
    "    # mask selecting boats that match the weight class of the person\n",
    "    weight_mask = boats[weight] == 1\n",
    "\n",
    "    matching_boats = boats[skill_mask & weight_mask]\n",
    "    boats_for_person[p] = set(matching_boats.index)\n",
    "\n",
    "    # available times for the person\n",
    "    times_avail_for_person[p] = set(prefs.loc[p][prefs.loc[p].notna()].index)\n",
    "\n",
    "# people likely to row a given boat at a given time\n",
    "people_for_boat_time = {}\n",
    "for b in boat_set:\n",
    "    skill_mask = people['membership'] == 'comp'\n",
    "    if boats.loc[b]['skill'] in (0, 1):\n",
    "        skill_mask &= people['Level'] == 1\n",
    "    elif boats.loc[b]['skill'] == 2:\n",
    "        skill_mask &= people['Level'] == 2\n",
    "    else:\n",
    "        continue\n",
    "\n",
    "    weight_mask = pd.Series(data=False, index=people.index)  # neutral mask (does not mask anything)\n",
    "    for weight in ['L', 'M', 'MH', 'H']:\n",
    "        if boats.loc[b][weight] == 1:\n",
    "            weight_mask |= people['Class'] == weight\n",
    "\n",
    "    people_for_boat = set(people[skill_mask & weight_mask].index)\n",
    "    # only people who gave time prefs\n",
    "    people_for_boat &= people_set\n",
    "\n",
    "    for t in time_set:\n",
    "        people_for_boat_time[(b, t)] = {p for p in people_for_boat\n",
    "                                        if not np.isnan(prefs.loc[p, t])}"
   ]
  },
  {
   "cell_type": "markdown",
   "metadata": {},
   "source": [
    "## Define the model"
   ]
  },
  {
   "cell_type": "code",
   "execution_count": 9,
   "metadata": {},
   "outputs": [],
   "source": [
    "# definition of the model\n",
    "model = Model(\"boat_alloc\")\n",
    "\n",
    "# defining varialbes\n",
    "variables = {}\n",
    "for p in people_set:\n",
    "    for b in boats_for_person[p]:\n",
    "        for t in times_avail_for_person[p]:\n",
    "            variables[(p, b, t)] = model.addVar(vtype=\"B\")\n",
    "\n",
    "# minimal pref score among all people, that we want to maximize\n",
    "s = model.addVar(vtype=\"I\", name=\"min_pref\", lb=None)\n",
    "\n",
    "\n",
    "# setting the objective fucntion\n",
    "total_pref = quicksum(prefs.loc[p, t] * variables[(p, b, t)]\n",
    "                      for p in people_set\n",
    "                      for b in boats_for_person[p]\n",
    "                      for t in times_avail_for_person[p])\n",
    "model.setObjective(500 * s + total_pref, \"maximize\")\n",
    "\n",
    "# adding the constraints\n",
    "for p in people_set:\n",
    "    # sum of prefs\n",
    "    sum_of_prefs = quicksum(prefs.loc[p, t] * variables[(p, b, t)]\n",
    "                            for b in boats_for_person[p]\n",
    "                            for t in times_avail_for_person[p])\n",
    "    # s = min_{p} sum of prefs\n",
    "    model.addCons(s <= sum_of_prefs)\n",
    "\n",
    "    # each person trains the number of times they asked\n",
    "    nb_trainings = quicksum(variables[(p, b, t)]\n",
    "                            for b in boats_for_person[p]\n",
    "                            for t in times_avail_for_person[p])\n",
    "    model.addCons(nb_trainings == asked_nb_trainings[p])\n",
    "\n",
    "    # each person can only row one boat at a time\n",
    "    for t in times_avail_for_person[p]:\n",
    "        nb_boats = quicksum(variables[(p, b, t)]\n",
    "                            for b in boats_for_person[p])\n",
    "        model.addCons(nb_boats <= 1)\n",
    "    \n",
    "    # not am1 and am2 in the same day\n",
    "    for day in ['M', 'T', 'W', 'Th', 'F', 'S']:\n",
    "        if not np.isnan(prefs.loc[p, (day, 'am1')]) and not np.isnan(prefs.loc[p, (day, 'am2')]):\n",
    "            model.addCons(quicksum(variables[(p, b, (day, 'am1'))] + variables[(p, b, (day, 'am2'))] for b in boats_for_person[p]) <= 1)\n",
    "\n",
    "# for each boat and time, no more than one person\n",
    "for b in set(boats[boats['skill'].isin([0, 1, 2])].index):\n",
    "    for t in time_set:\n",
    "        nb_people_on_boat_time = quicksum(variables[(p, b, t)]\n",
    "                                          for p in people_for_boat_time[(b, t)])\n",
    "        model.addCons(nb_people_on_boat_time <= 1)"
   ]
  },
  {
   "cell_type": "markdown",
   "metadata": {},
   "source": [
    "## solve the model"
   ]
  },
  {
   "cell_type": "code",
   "execution_count": 10,
   "metadata": {},
   "outputs": [
    {
     "name": "stdout",
     "output_type": "stream",
     "text": [
      "presolving:\n",
      "(round 1, fast)       0 del vars, 125 del conss, 0 add conss, 1 chg bounds, 0 chg sides, 0 chg coeffs, 0 upgd conss, 0 impls, 1046 clqs\n",
      "   (0.0s) running MILP presolver\n",
      "   (0.1s) MILP presolver (2 rounds): 0 aggregations, 61 fixings, 0 bound changes\n",
      "(round 2, medium)     61 del vars, 125 del conss, 0 add conss, 2 chg bounds, 0 chg sides, 0 chg coeffs, 0 upgd conss, 0 impls, 1013 clqs\n",
      "(round 3, fast)       61 del vars, 158 del conss, 0 add conss, 2 chg bounds, 0 chg sides, 0 chg coeffs, 0 upgd conss, 0 impls, 1013 clqs\n",
      "(round 4, exhaustive) 61 del vars, 626 del conss, 0 add conss, 2 chg bounds, 468 chg sides, 0 chg coeffs, 0 upgd conss, 0 impls, 1013 clqs\n",
      "   (0.1s) running MILP presolver\n",
      "   (0.1s) MILP presolver (2 rounds): 0 aggregations, 14 fixings, 0 bound changes\n",
      "(round 5, medium)     75 del vars, 626 del conss, 0 add conss, 2 chg bounds, 468 chg sides, 0 chg coeffs, 0 upgd conss, 0 impls, 1011 clqs\n",
      "(round 6, fast)       75 del vars, 628 del conss, 0 add conss, 2 chg bounds, 468 chg sides, 0 chg coeffs, 0 upgd conss, 0 impls, 1011 clqs\n",
      "(round 7, exhaustive) 75 del vars, 628 del conss, 0 add conss, 3 chg bounds, 468 chg sides, 0 chg coeffs, 543 upgd conss, 0 impls, 1011 clqs\n",
      "   (0.1s) probing: 68/2587 (2.6%) - 0 fixings, 0 aggregations, 14 implications, 0 bound changes\n",
      "   (0.1s) probing aborted: 50/50 successive totally useless probings\n",
      "   Deactivated symmetry handling methods, since SCIP was built without symmetry detector (SYM=none).\n",
      "presolving (8 rounds: 8 fast, 5 medium, 3 exhaustive):\n",
      " 75 deleted vars, 628 deleted constraints, 0 added constraints, 3 tightened bounds, 0 added holes, 468 changed sides, 0 changed coefficients\n",
      " 14 implications, 1011 cliques\n",
      "presolved problem has 2588 variables (2587 bin, 1 int, 0 impl, 0 cont) and 621 constraints\n",
      "    543 constraints of type <setppc>\n",
      "     78 constraints of type <linear>\n",
      "transformed objective value is always integral (scale: 1)\n",
      "Presolving Time: 0.11\n",
      "\n",
      " time | node  | left  |LP iter|LP it/n|mem/heur|mdpt |vars |cons |rows |cuts |sepa|confs|strbr|  dualbound   | primalbound  |  gap   | compl. \n",
      "  0.2s|     1 |     0 |  2078 |     - |    25M |   0 |2588 | 668 | 621 |   0 |  0 |  46 |   0 |-6.073333e+02 |      --      |    Inf | unknown\n",
      "o 0.2s|     1 |     0 |  2388 |     - |feaspump|   0 |2588 | 668 | 621 |   0 |  0 |  46 |   0 |-6.073333e+02 |-1.024000e+03 |  68.61%| unknown\n",
      "  0.9s|     1 |     0 |  2389 |     - |    27M |   0 |2588 | 852 | 621 |  13 |  1 |  46 |   0 |-1.024000e+03 |-1.024000e+03 |   0.00%| unknown\n",
      "  0.9s|     1 |     0 |  2389 |     - |    27M |   0 |2588 | 852 | 621 |  13 |  1 |  46 |   0 |-1.024000e+03 |-1.024000e+03 |   0.00%| unknown\n",
      "\n",
      "SCIP Status        : problem is solved [optimal solution found]\n",
      "Solving Time (sec) : 0.94\n",
      "Solving Nodes      : 1\n",
      "Primal Bound       : -1.02400000000000e+03 (1 solutions)\n",
      "Dual Bound         : -1.02400000000000e+03\n",
      "Gap                : 0.00 %\n"
     ]
    }
   ],
   "source": [
    "# optimize\n",
    "model.redirectOutput()\n",
    "model.optimize()"
   ]
  },
  {
   "cell_type": "markdown",
   "metadata": {},
   "source": [
    "## output solution"
   ]
  },
  {
   "cell_type": "code",
   "execution_count": 11,
   "metadata": {},
   "outputs": [
    {
     "name": "stdout",
     "output_type": "stream",
     "text": [
      "Fairness score (0 = optimal) : -2.0\n",
      "total : -24.0\n"
     ]
    }
   ],
   "source": [
    "status = model.getStatus()\n",
    "if status == 'optimal':\n",
    "    # generate resulting CSV file with boat allocation\n",
    "    levels = [['M', 'T', 'W', 'Th', 'F', 'S'], ['am1', 'am2', 'pm']]\n",
    "    cols = pd.MultiIndex.from_product(levels, names=['day', 'time'])\n",
    "    result = pd.DataFrame(columns=cols, index=prefs.index)\n",
    "    result.index.rename('people', inplace=True)\n",
    "    \n",
    "    fairness = pd.DataFrame(0, index=people_set, columns=['nb_asked', 'nb_first', 'nb_second'])\n",
    "    fairness['nb_asked'] = asked_nb_trainings\n",
    "\n",
    "    for p in people_set:\n",
    "        for t in times_avail_for_person[p]:\n",
    "            boat = {b for b in boats_for_person[p] if model.isEQ(model.getVal(variables[(p, b, t)]), 1)}\n",
    "            assert len(boat) <= 1\n",
    "            if boat:\n",
    "                result.loc[p, t] = boat.pop()\n",
    "            # if p is rowing at time t\n",
    "            if model.isEQ(model.getVal(quicksum(variables[(p, b, t)] for b in boats_for_person[p])), 1):\n",
    "                if prefs.loc[p, t] == 0:\n",
    "                    fairness.loc[p, 'nb_first'] += 1\n",
    "                elif prefs.loc[p, t] == -1:\n",
    "                    fairness.loc[p, 'nb_second'] += 1\n",
    "                else:\n",
    "                    raise\n",
    "\n",
    "    result.to_csv(f'results/comp/results_boat{suffix}.csv')\n",
    "    result.to_excel(f'results/comp/results_boat{suffix}.xlsx')\n",
    "    fairness.to_csv(f'results/comp/results_boat{suffix}_fairness.csv')\n",
    "    fairness.to_excel(f'results/comp/results_boat{suffix}_fairness.xlsx')\n",
    "    print(\"Fairness score (0 = optimal) :\", model.getVal(s))\n",
    "    print(\"total :\", model.getVal(total_pref))\n",
    "\n",
    "else:\n",
    "    print(f\"Solver finished with status {status}\")"
   ]
  },
  {
   "cell_type": "code",
   "execution_count": 12,
   "metadata": {},
   "outputs": [],
   "source": [
    "results = pd.concat((result, people), axis=1)\n",
    "results = results[results['membership'] == 'comp']\n",
    "results = results.sort_values(['Level', 'Class'])\n",
    "results = results.drop(columns=['Level', 'Class', 'membership'])\n",
    "results.columns = pd.MultiIndex.from_tuples(results.columns)\n",
    "\n",
    "results.to_csv(f'results/comp/results_boat{suffix}_sorted.csv')\n",
    "results.to_excel(f'results/comp/results_boat{suffix}_sorted.xlsx')"
   ]
  },
  {
   "cell_type": "code",
   "execution_count": 13,
   "metadata": {},
   "outputs": [
    {
     "data": {
      "text/plain": [
       "'optimal'"
      ]
     },
     "execution_count": 13,
     "metadata": {},
     "output_type": "execute_result"
    }
   ],
   "source": [
    "model.getStatus()"
   ]
  }
 ],
 "metadata": {
  "kernelspec": {
   "display_name": "Python 3",
   "language": "python",
   "name": "python3"
  },
  "language_info": {
   "codemirror_mode": {
    "name": "ipython",
    "version": 3
   },
   "file_extension": ".py",
   "mimetype": "text/x-python",
   "name": "python",
   "nbconvert_exporter": "python",
   "pygments_lexer": "ipython3",
   "version": "3.8.3"
  }
 },
 "nbformat": 4,
 "nbformat_minor": 4
}
